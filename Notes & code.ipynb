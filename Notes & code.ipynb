{
 "cells": [
  {
   "cell_type": "code",
   "execution_count": null,
   "id": "b38b2598",
   "metadata": {},
   "outputs": [],
   "source": [
    "# Initialize and fit SelectKBest\n",
    "#selector = SelectKBest(mutual_info_classif, k=17)\n",
    "#X_new = selector.fit_transform(X_new, y)\n",
    "\n",
    "# Now you can get the scores from the selector object, not the transformed X_new\n",
    "#dfscores = pd.DataFrame(selector.scores_)\n",
    "\n",
    "# Create a DataFrame for feature names\n",
    "#dfcolumns = pd.DataFrame(X.columns)\n",
    "\n",
    "# Concatenate the two dataframes for better visualization\n",
    "#featureScores = pd.concat([dfcolumns, dfscores], axis=1)\n",
    "\n",
    "# Naming the dataframe columns\n",
    "#featureScores.columns = ['Specs', 'Score']\n",
    "\n",
    "# Print the top features with the highest scores\n",
    "#print(featureScores.nlargest(17, 'Score'))\n",
    "\n",
    "\n",
    "\n",
    "\n",
    "\n",
    "\n",
    "pipe = make_pipeline(\n",
    "    StandardScaler(),\n",
    "    PolynomialFeatures(),\n",
    "    DecisionTreeRegressor()\n",
    ")\n",
    "\n",
    "param_grid = {\n",
    "    'polynomialfeatures__degree': [1, 2, 3],\n",
    "}\n",
    "\n",
    "grid = GridSearchCV(pipe, param_grid=param_grid, cv=5, n_jobs=-1)\n",
    "grid.fit(X_train, y_train_reg)\n",
    "\n",
    "\n",
    "# Print the best parameters from grid search\n",
    "print(\"Best parameters: {}\".format(grid.best_params_))\n",
    "\n",
    "# Print the test set score\n",
    "print(\"Test-set score: {:.2f}\".format(grid.score(X_test, y_test_reg)))\n"
   ]
  },
  {
   "cell_type": "code",
   "execution_count": null,
   "id": "0fc85cea",
   "metadata": {},
   "outputs": [],
   "source": [
    "# Align the test data columns with the training data columns\n",
    "# The `align` method will only work with pandas DataFrames\n",
    "#X_test_aligned, _ = X_test.align(X_train, join='left', axis=1, fill_value=0)"
   ]
  },
  {
   "cell_type": "markdown",
   "id": "0860685e",
   "metadata": {},
   "source": [
    "regression tree"
   ]
  },
  {
   "cell_type": "code",
   "execution_count": null,
   "id": "b8d00b5f",
   "metadata": {},
   "outputs": [],
   "source": [
    "pipe = make_pipeline(\n",
    "    StandardScaler(),\n",
    "    PolynomialFeatures(),\n",
    "    DecisionTreeRegressor()\n",
    ")\n",
    "\n",
    "param_grid = {\n",
    "    'polynomialfeatures__degree': [1, 2, 3],\n",
    "    'decisiontreeregressor__max_depth': [None, 5, 10, 20]\n",
    "}\n",
    "\n",
    "grid = GridSearchCV(pipe, param_grid=param_grid, cv=5, n_jobs=-1)\n",
    "grid.fit(X_train, y_train_reg)\n",
    "\n",
    "# Print the best parameters from grid search\n",
    "print(\"Best parameters: {}\".format(grid.best_params_))\n",
    "\n",
    "# Print the test set score\n",
    "print(\"Test-set score: {:.2f}\".format(grid.score(X_test, y_test_reg)))\n"
   ]
  },
  {
   "cell_type": "markdown",
   "id": "c5d311aa",
   "metadata": {},
   "source": [
    "neural network"
   ]
  },
  {
   "cell_type": "code",
   "execution_count": null,
   "id": "548f94e1",
   "metadata": {},
   "outputs": [],
   "source": [
    "pipe = make_pipeline(\n",
    "    StandardScaler(),\n",
    "    PolynomialFeatures(),\n",
    "    MLPRegressor(random_state=1)\n",
    ")\n",
    "\n",
    "param_grid = {\n",
    "    'mlpregressor__hidden_layer_sizes': [(50,), (100,), (50, 50), (100, 100), (50, 100, 50)]\n",
    "}\n",
    "\n",
    "grid = GridSearchCV(pipe, param_grid=param_grid, cv=5, n_jobs=-1)\n",
    "grid.fit(X_train, y_train_reg)\n",
    "\n",
    "# Print the best parameters from grid search\n",
    "print(\"Best parameters: {}\".format(grid.best_params_))\n",
    "\n",
    "# Print the test set score\n",
    "print(\"Test-set score: {:.2f}\".format(grid.score(X_test, y_test_reg)))"
   ]
  }
 ],
 "metadata": {
  "kernelspec": {
   "display_name": "Python 3 (ipykernel)",
   "language": "python",
   "name": "python3"
  },
  "language_info": {
   "codemirror_mode": {
    "name": "ipython",
    "version": 3
   },
   "file_extension": ".py",
   "mimetype": "text/x-python",
   "name": "python",
   "nbconvert_exporter": "python",
   "pygments_lexer": "ipython3",
   "version": "3.11.4"
  }
 },
 "nbformat": 4,
 "nbformat_minor": 5
}
